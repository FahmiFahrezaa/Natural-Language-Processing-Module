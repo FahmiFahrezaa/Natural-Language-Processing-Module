{
 "cells": [
  {
   "cell_type": "code",
   "execution_count": null,
   "id": "d8ecb25f",
   "metadata": {},
   "outputs": [],
   "source": [
    "import tensorflow as tf\n",
    "import numpy as np\n",
    "\n",
    "from tensorflow.keras.preprocessing.sequence import pad_sequences\n",
    "from tensorflow.keras.layers import Embedding, LSTM, Dense, Bidirectional, SimpleRNN\n",
    "from tensorflow.keras.preprocessing.text import Tokenizer\n",
    "from tensorflow.keras.models import Sequential\n",
    "from tensorflow.keras.optimizers import Adam\n",
    "\n",
    "data = open('Mod10_2.txt').read()\n",
    "\n",
    "corpus = data.lower().split(\"\\n\")\n",
    "\n",
    "print(corpus)\n"
   ]
  },
  {
   "cell_type": "code",
   "execution_count": null,
   "id": "e80c37aa",
   "metadata": {},
   "outputs": [],
   "source": [
    "tokenizer = Tokenizer()\n",
    "tokenizer.fit_on_texts(corpus)\n",
    "total_words = len(tokenizer.word_index) + 1\n",
    "\n",
    "print(f'word index dictionary: {tokenizer.word_index}')\n",
    "print(f'total words: {total_words}')\n"
   ]
  },
  {
   "cell_type": "code",
   "execution_count": null,
   "id": "c19196af",
   "metadata": {},
   "outputs": [],
   "source": [
    "input_sequences = []\n",
    "for line in corpus:\n",
    "    token_list = tokenizer.texts_to_sequences([line])[0]\n",
    "    for i in range(1, len(token_list)):\n",
    "        n_gram_sequence = token_list[:i+1]\n",
    "        input_sequences.append(n_gram_sequence)\n",
    "\n",
    "max_sequence_len = max([len(x) for x in input_sequences])\n",
    "input_sequences = pad_sequences(input_sequences, maxlen=max_sequence_len, padding=\"pre\")\n",
    "\n",
    "xs, labels = input_sequences[:, :-1], input_sequences[:, -1]\n",
    "ys = tf.keras.utils.to_categorical(labels, num_classes=total_words)\n"
   ]
  },
  {
   "cell_type": "code",
   "execution_count": 12,
   "id": "7f90f129",
   "metadata": {},
   "outputs": [
    {
     "name": "stdout",
     "output_type": "stream",
     "text": [
      "sample sentence: ['machine', 'learning', '(ml)', 'is', 'a', 'category', 'of', 'an', 'algorithm', 'that', 'allows', 'software', 'applications', 'to', 'become']\n",
      "[19, 9, 0, 4, 2, 61, 3, 11, 32, 5, 62, 33, 63, 6, 64]\n"
     ]
    }
   ],
   "source": [
    "sentence = corpus[0].split()\n",
    "print(f'sample sentence: {sentence}')\n",
    "\n",
    "token_list = []\n",
    "for word in sentence:\n",
    "    if word in tokenizer.word_index:\n",
    "        token_list.append(tokenizer.word_index[word])\n",
    "    else:\n",
    "        token_list.append(0)  # Use 0 as the token for out-of-vocabulary words\n",
    "\n",
    "print(token_list)\n"
   ]
  },
  {
   "cell_type": "code",
   "execution_count": 14,
   "id": "c0a1d770",
   "metadata": {},
   "outputs": [
    {
     "name": "stdout",
     "output_type": "stream",
     "text": [
      "token list: [ 0  0  0  0  0  0  0  0  0  0  0  0 19  9 60  4  2 61]\n",
      "decoded to text: ['machine learning ml is a category']\n"
     ]
    }
   ],
   "source": [
    "element_number = 5\n",
    "print(f'token list: {xs[element_number]}')\n",
    "print(f'decoded to text: {tokenizer.sequences_to_texts([xs[element_number]])}')\n"
   ]
  },
  {
   "cell_type": "code",
   "execution_count": 16,
   "id": "d0f41e04",
   "metadata": {},
   "outputs": [
    {
     "name": "stdout",
     "output_type": "stream",
     "text": [
      "Model: \"sequential\"\n",
      "_________________________________________________________________\n",
      " Layer (type)                Output Shape              Param #   \n",
      "=================================================================\n",
      " embedding (Embedding)       (None, 18, 100)           24000     \n",
      "                                                                 \n",
      " bidirectional (Bidirectiona  (None, 300)              301200    \n",
      " l)                                                              \n",
      "                                                                 \n",
      " dense (Dense)               (None, 240)               72240     \n",
      "                                                                 \n",
      "=================================================================\n",
      "Total params: 397,440\n",
      "Trainable params: 397,440\n",
      "Non-trainable params: 0\n",
      "_________________________________________________________________\n"
     ]
    }
   ],
   "source": [
    "embedding_dim = 100\n",
    "lstm_units = 150\n",
    "learning_rate = 0.01\n",
    "\n",
    "model = Sequential([\n",
    "    Embedding(total_words, embedding_dim, input_length=max_sequence_len-1),\n",
    "    Bidirectional(LSTM(lstm_units)),\n",
    "    Dense(total_words, activation='softmax')\n",
    "])\n",
    "\n",
    "# use LSTM  instead \n",
    "# model = Sequential([\n",
    "#     Embedding(total_words, embedding_dim, input_length=max_sequence_len-1),\n",
    "#     LSTM(lstm_units),\n",
    "#     Dense(total_words, activation='softmax')\n",
    "# ])\n",
    "\n",
    "# or SimpleRNN instead \n",
    "# model = Sequential([\n",
    "#     Embedding(total_words, embedding_dim, input_length=max_sequence_len-1),\n",
    "#     SimpleRNN(lstm_units),\n",
    "#     Dense(total_words, activation='softmax')\n",
    "# ])\n",
    "\n",
    "model.compile(\n",
    "    loss='categorical_crossentropy',\n",
    "    optimizer=tf.keras.optimizers.Adam(learning_rate=learning_rate),\n",
    "    metrics=['accuracy']\n",
    ")\n",
    "\n",
    "model.summary()\n"
   ]
  },
  {
   "cell_type": "code",
   "execution_count": 17,
   "id": "1dd471a9",
   "metadata": {},
   "outputs": [
    {
     "name": "stdout",
     "output_type": "stream",
     "text": [
      "Epoch 1/50\n",
      "13/13 [==============================] - 3s 21ms/step - loss: 5.4387 - accuracy: 0.0442\n",
      "Epoch 2/50\n",
      "13/13 [==============================] - 0s 20ms/step - loss: 5.0604 - accuracy: 0.0614\n",
      "Epoch 3/50\n",
      "13/13 [==============================] - 0s 21ms/step - loss: 4.6416 - accuracy: 0.0983\n",
      "Epoch 4/50\n",
      "13/13 [==============================] - 0s 21ms/step - loss: 4.0107 - accuracy: 0.1400\n",
      "Epoch 5/50\n",
      "13/13 [==============================] - 0s 22ms/step - loss: 3.2201 - accuracy: 0.2113\n",
      "Epoch 6/50\n",
      "13/13 [==============================] - 0s 21ms/step - loss: 2.4089 - accuracy: 0.3366\n",
      "Epoch 7/50\n",
      "13/13 [==============================] - 0s 21ms/step - loss: 1.6545 - accuracy: 0.5307\n",
      "Epoch 8/50\n",
      "13/13 [==============================] - 0s 24ms/step - loss: 1.0338 - accuracy: 0.7322\n",
      "Epoch 9/50\n",
      "13/13 [==============================] - 0s 23ms/step - loss: 0.6587 - accuracy: 0.8477\n",
      "Epoch 10/50\n",
      "13/13 [==============================] - 0s 24ms/step - loss: 0.3777 - accuracy: 0.9263\n",
      "Epoch 11/50\n",
      "13/13 [==============================] - 0s 24ms/step - loss: 0.2024 - accuracy: 0.9656\n",
      "Epoch 12/50\n",
      "13/13 [==============================] - 0s 24ms/step - loss: 0.1398 - accuracy: 0.9681\n",
      "Epoch 13/50\n",
      "13/13 [==============================] - 0s 25ms/step - loss: 0.0996 - accuracy: 0.9705\n",
      "Epoch 14/50\n",
      "13/13 [==============================] - 0s 26ms/step - loss: 0.0860 - accuracy: 0.9754\n",
      "Epoch 15/50\n",
      "13/13 [==============================] - 0s 24ms/step - loss: 0.0836 - accuracy: 0.9705\n",
      "Epoch 16/50\n",
      "13/13 [==============================] - 0s 26ms/step - loss: 0.0626 - accuracy: 0.9779\n",
      "Epoch 17/50\n",
      "13/13 [==============================] - 0s 26ms/step - loss: 0.0596 - accuracy: 0.9754\n",
      "Epoch 18/50\n",
      "13/13 [==============================] - 0s 26ms/step - loss: 0.0606 - accuracy: 0.9779\n",
      "Epoch 19/50\n",
      "13/13 [==============================] - 0s 26ms/step - loss: 0.0603 - accuracy: 0.9779\n",
      "Epoch 20/50\n",
      "13/13 [==============================] - 0s 28ms/step - loss: 0.0658 - accuracy: 0.9803\n",
      "Epoch 21/50\n",
      "13/13 [==============================] - 0s 26ms/step - loss: 0.0548 - accuracy: 0.9803\n",
      "Epoch 22/50\n",
      "13/13 [==============================] - 0s 26ms/step - loss: 0.0407 - accuracy: 0.9828\n",
      "Epoch 23/50\n",
      "13/13 [==============================] - 0s 26ms/step - loss: 0.0434 - accuracy: 0.9828\n",
      "Epoch 24/50\n",
      "13/13 [==============================] - 0s 26ms/step - loss: 0.0480 - accuracy: 0.9779\n",
      "Epoch 25/50\n",
      "13/13 [==============================] - 0s 27ms/step - loss: 0.0393 - accuracy: 0.9803\n",
      "Epoch 26/50\n",
      "13/13 [==============================] - 0s 27ms/step - loss: 0.0363 - accuracy: 0.9828\n",
      "Epoch 27/50\n",
      "13/13 [==============================] - 0s 26ms/step - loss: 0.0350 - accuracy: 0.9828\n",
      "Epoch 28/50\n",
      "13/13 [==============================] - 0s 27ms/step - loss: 0.0419 - accuracy: 0.9803\n",
      "Epoch 29/50\n",
      "13/13 [==============================] - 0s 27ms/step - loss: 0.0362 - accuracy: 0.9803\n",
      "Epoch 30/50\n",
      "13/13 [==============================] - 0s 27ms/step - loss: 0.0342 - accuracy: 0.9803\n",
      "Epoch 31/50\n",
      "13/13 [==============================] - 0s 27ms/step - loss: 0.0432 - accuracy: 0.9803\n",
      "Epoch 32/50\n",
      "13/13 [==============================] - 0s 27ms/step - loss: 0.0404 - accuracy: 0.9828\n",
      "Epoch 33/50\n",
      "13/13 [==============================] - 0s 26ms/step - loss: 0.0403 - accuracy: 0.9803\n",
      "Epoch 34/50\n",
      "13/13 [==============================] - 0s 26ms/step - loss: 0.0403 - accuracy: 0.9779\n",
      "Epoch 35/50\n",
      "13/13 [==============================] - 0s 26ms/step - loss: 0.0369 - accuracy: 0.9754\n",
      "Epoch 36/50\n",
      "13/13 [==============================] - 0s 26ms/step - loss: 0.0334 - accuracy: 0.9754\n",
      "Epoch 37/50\n",
      "13/13 [==============================] - 0s 25ms/step - loss: 0.0334 - accuracy: 0.9803\n",
      "Epoch 38/50\n",
      "13/13 [==============================] - 0s 26ms/step - loss: 0.0320 - accuracy: 0.9779\n",
      "Epoch 39/50\n",
      "13/13 [==============================] - 0s 25ms/step - loss: 0.0298 - accuracy: 0.9828\n",
      "Epoch 40/50\n",
      "13/13 [==============================] - 0s 26ms/step - loss: 0.0344 - accuracy: 0.9803\n",
      "Epoch 41/50\n",
      "13/13 [==============================] - 0s 26ms/step - loss: 0.0320 - accuracy: 0.9828\n",
      "Epoch 42/50\n",
      "13/13 [==============================] - 0s 26ms/step - loss: 0.0346 - accuracy: 0.9803\n",
      "Epoch 43/50\n",
      "13/13 [==============================] - 0s 26ms/step - loss: 0.0316 - accuracy: 0.9828\n",
      "Epoch 44/50\n",
      "13/13 [==============================] - 0s 26ms/step - loss: 0.0322 - accuracy: 0.9828\n",
      "Epoch 45/50\n",
      "13/13 [==============================] - 0s 25ms/step - loss: 0.0345 - accuracy: 0.9828\n",
      "Epoch 46/50\n",
      "13/13 [==============================] - 0s 25ms/step - loss: 0.0334 - accuracy: 0.9779\n",
      "Epoch 47/50\n",
      "13/13 [==============================] - 0s 25ms/step - loss: 0.0285 - accuracy: 0.9803\n",
      "Epoch 48/50\n",
      "13/13 [==============================] - 0s 25ms/step - loss: 0.0302 - accuracy: 0.9754\n",
      "Epoch 49/50\n",
      "13/13 [==============================] - 0s 25ms/step - loss: 0.0290 - accuracy: 0.9803\n",
      "Epoch 50/50\n",
      "13/13 [==============================] - 0s 25ms/step - loss: 0.0332 - accuracy: 0.9779\n"
     ]
    }
   ],
   "source": [
    "epochs = 50\n",
    "history = model.fit(xs, ys, epochs=epochs)"
   ]
  },
  {
   "cell_type": "code",
   "execution_count": 19,
   "id": "14dd244c",
   "metadata": {},
   "outputs": [
    {
     "data": {
      "image/png": "[encoded data removed]",
      "text/plain": [
       "<Figure size 640x480 with 1 Axes>"
      ]
     },
     "metadata": {},
     "output_type": "display_data"
    }
   ],
   "source": [
    "import matplotlib.pyplot as plt\n",
    "\n",
    "def plot_graph(history, string):\n",
    "    plt.plot(history.history[string])\n",
    "    plt.xlabel(\"Epochs\")\n",
    "    plt.ylabel(string)\n",
    "    plt.show()\n",
    "\n",
    "plot_graph(history, 'accuracy')\n"
   ]
  },
  {
   "cell_type": "code",
   "execution_count": 21,
   "id": "3e614952",
   "metadata": {},
   "outputs": [
    {
     "name": "stdout",
     "output_type": "stream",
     "text": [
      "help me obi-wan kenobi you're my only hope help you learn because they have a penalty added cost loss of time regret regret service responds towards template questions questions towards template questions questions be performing area certain of action is less likely to succeed than the a user sends added from those actions can be be y others others y can be be added cost loss of time regret service responds towards template questions questions towards of an is questions towards template others y can be can be template questions y can be be service be be environment by performing certain certain is less likely to succeed than\n"
     ]
    }
   ],
   "source": [
    "seed_text = \"help me obi-wan kenobi you're my only hope\"\n",
    "next_words = 100\n",
    "\n",
    "for i in range(next_words):\n",
    "    token_list = tokenizer.texts_to_sequences([seed_text])[0]\n",
    "    token_list = pad_sequences([token_list], maxlen=max_sequence_len-1, padding='pre')\n",
    "    probabilities = model.predict(token_list, verbose=0)\n",
    "    choices = np.random.choice([1, 2, 3])\n",
    "    predicted = np.argsort(probabilities[0])[-choices:]\n",
    "    if predicted[-1] != 0:\n",
    "        output_word = tokenizer.index_word[predicted[-1]]\n",
    "        seed_text += \" \" + output_word\n",
    "\n",
    "print(seed_text)\n"
   ]
  },
  {
   "cell_type": "code",
   "execution_count": 22,
   "id": "807a5f52",
   "metadata": {},
   "outputs": [
    {
     "name": "stderr",
     "output_type": "stream",
     "text": [
      "[nltk_data] Downloading package punkt to\n",
      "[nltk_data]     C:\\Users\\LEGION\\AppData\\Roaming\\nltk_data...\n",
      "[nltk_data]   Package punkt is already up-to-date!\n",
      "[nltk_data] Downloading package wordnet to\n",
      "[nltk_data]     C:\\Users\\LEGION\\AppData\\Roaming\\nltk_data...\n"
     ]
    },
    {
     "name": "stdout",
     "output_type": "stream",
     "text": [
      "['machine learning (ml) is a category of an algorithm that allows software applications to become \\nmore accurate in predicting outcomes without being explicitly programmed.', 'supervised learning is a technique in which we teach or train the machine using data which is \\nwell labeled.', 'this approach is similar to human learning under the supervision of a teacher.', 'the teacher provides good examples for the student to memorize, and the student then derives \\ngeneral rules from these specific examples.', 'regression problems: the target is a numeric value.', 'example: determines the average prices of houses in the certain area\\n\\nclassification problems: the target is a qualitative variable, such as a class or a tag.', 'example: distinguishes between kinds of iris flowers based on their sepal and petal measures.', 'unsupervised learning involves training by using unlabeled data \\nand allowing the model to act on that information without guidance.', 'some recommendation systems that you find on the web in the form of \\nmarketing automation are based on this type of learning.', 'the marketing automation algorithm derives its suggestions from what \\nyouâ€™ve bought in the past.', 'the recommendations are based on an estimation of \\nwhat group of customers you resemble the most and then inferring your likely preferences based on that group.', 'reinforcement learning is a part of machine learning where an agent is put \\nin an environment and he learns to behave in this environment by performing certain \\nactions and observing the rewards which it gets from those actions.', 'in the human world, it is just like learning by trial and error.', 'errors help you learn because they have a penalty added (cost, loss of time, regret, \\npain, and so on), teaching you that a certain course of action is less likely to succeed than others.', 'example: when computers learn to play video games by themselves.', 'regression analysis is a statistical tool for the investigation of relationships \\nbetween variables.', 'usually, the investigator seeks to ascertain the causal effect of one \\nvariable upon another â€” the effect of a price increase upon demand, for example, or the effect \\nof changes in the money supply upon the inflation rate.', 'a chat bot is a software encoded robot that is able to respond to messages that a user sends\\nchatbots are usually found on online shops for faster customer service responds towards template questions\\na sample chatbot that has been commercially used as an application is simsimi\\n\\nlinear regression is a linear model, e.g.', 'a model that assumes a linear relationship between the input \\nvariables (x) and the single output variable (y).', 'more specifically, that y can be \\ncalculated from a linear combination of the input variables (x)']\n",
      "['machine', 'learning', '(', 'ml', ')', 'is', 'a', 'category', 'of', 'an', 'algorithm', 'that', 'allows', 'software', 'applications', 'to', 'become', 'more', 'accurate', 'in', 'predicting', 'outcomes', 'without', 'being', 'explicitly', 'programmed', '.', 'supervised', 'learning', 'is', 'a', 'technique', 'in', 'which', 'we', 'teach', 'or', 'train', 'the', 'machine', 'using', 'data', 'which', 'is', 'well', 'labeled', '.', 'this', 'approach', 'is', 'similar', 'to', 'human', 'learning', 'under', 'the', 'supervision', 'of', 'a', 'teacher', '.', 'the', 'teacher', 'provides', 'good', 'examples', 'for', 'the', 'student', 'to', 'memorize', ',', 'and', 'the', 'student', 'then', 'derives', 'general', 'rules', 'from', 'these', 'specific', 'examples', '.', 'regression', 'problems', ':', 'the', 'target', 'is', 'a', 'numeric', 'value', '.', 'example', ':', 'determines', 'the', 'average', 'prices', 'of', 'houses', 'in', 'the', 'certain', 'area', 'classification', 'problems', ':', 'the', 'target', 'is', 'a', 'qualitative', 'variable', ',', 'such', 'as', 'a', 'class', 'or', 'a', 'tag', '.', 'example', ':', 'distinguishes', 'between', 'kinds', 'of', 'iris', 'flowers', 'based', 'on', 'their', 'sepal', 'and', 'petal', 'measures', '.', 'unsupervised', 'learning', 'involves', 'training', 'by', 'using', 'unlabeled', 'data', 'and', 'allowing', 'the', 'model', 'to', 'act', 'on', 'that', 'information', 'without', 'guidance', '.', 'some', 'recommendation', 'systems', 'that', 'you', 'find', 'on', 'the', 'web', 'in', 'the', 'form', 'of', 'marketing', 'automation', 'are', 'based', 'on', 'this', 'type', 'of', 'learning', '.', 'the', 'marketing', 'automation', 'algorithm', 'derives', 'its', 'suggestions', 'from', 'what', 'youâ€™ve', 'bought', 'in', 'the', 'past', '.', 'the', 'recommendations', 'are', 'based', 'on', 'an', 'estimation', 'of', 'what', 'group', 'of', 'customers', 'you', 'resemble', 'the', 'most', 'and', 'then', 'inferring', 'your', 'likely', 'preferences', 'based', 'on', 'that', 'group', '.', 'reinforcement', 'learning', 'is', 'a', 'part', 'of', 'machine', 'learning', 'where', 'an', 'agent', 'is', 'put', 'in', 'an', 'environment', 'and', 'he', 'learns', 'to', 'behave', 'in', 'this', 'environment', 'by', 'performing', 'certain', 'actions', 'and', 'observing', 'the', 'rewards', 'which', 'it', 'gets', 'from', 'those', 'actions', '.', 'in', 'the', 'human', 'world', ',', 'it', 'is', 'just', 'like', 'learning', 'by', 'trial', 'and', 'error', '.', 'errors', 'help', 'you', 'learn', 'because', 'they', 'have', 'a', 'penalty', 'added', '(', 'cost', ',', 'loss', 'of', 'time', ',', 'regret', ',', 'pain', ',', 'and', 'so', 'on', ')', ',', 'teaching', 'you', 'that', 'a', 'certain', 'course', 'of', 'action', 'is', 'less', 'likely', 'to', 'succeed', 'than', 'others', '.', 'example', ':', 'when', 'computers', 'learn', 'to', 'play', 'video', 'games', 'by', 'themselves', '.', 'regression', 'analysis', 'is', 'a', 'statistical', 'tool', 'for', 'the', 'investigation', 'of', 'relationships', 'between', 'variables', '.', 'usually', ',', 'the', 'investigator', 'seeks', 'to', 'ascertain', 'the', 'causal', 'effect', 'of', 'one', 'variable', 'upon', 'another', 'â€', '”', 'the', 'effect', 'of', 'a', 'price', 'increase', 'upon', 'demand', ',', 'for', 'example', ',', 'or', 'the', 'effect', 'of', 'changes', 'in', 'the', 'money', 'supply', 'upon', 'the', 'inflation', 'rate', '.', 'a', 'chat', 'bot', 'is', 'a', 'software', 'encoded', 'robot', 'that', 'is', 'able', 'to', 'respond', 'to', 'messages', 'that', 'a', 'user', 'sends', 'chatbots', 'are', 'usually', 'found', 'on', 'online', 'shops', 'for', 'faster', 'customer', 'service', 'responds', 'towards', 'template', 'questions', 'a', 'sample', 'chatbot', 'that', 'has', 'been', 'commercially', 'used', 'as', 'an', 'application', 'is', 'simsimi', 'linear', 'regression', 'is', 'a', 'linear', 'model', ',', 'e.g', '.', 'a', 'model', 'that', 'assumes', 'a', 'linear', 'relationship', 'between', 'the', 'input', 'variables', '(', 'x', ')', 'and', 'the', 'single', 'output', 'variable', '(', 'y', ')', '.', 'more', 'specifically', ',', 'that', 'y', 'can', 'be', 'calculated', 'from', 'a', 'linear', 'combination', 'of', 'the', 'input', 'variables', '(', 'x', ')']\n"
     ]
    },
    {
     "ename": "ModuleNotFoundError",
     "evalue": "No module named 'sklearn'",
     "output_type": "error",
     "traceback": [
      "\u001b[1;31m---------------------------------------------------------------------------\u001b[0m",
      "\u001b[1;31mModuleNotFoundError\u001b[0m                       Traceback (most recent call last)",
      "Cell \u001b[1;32mIn[22], line 41\u001b[0m\n\u001b[0;32m     38\u001b[0m             \u001b[38;5;28;01mreturn\u001b[39;00m random\u001b[38;5;241m.\u001b[39mchoice(GREETING_RESPONSES)\n\u001b[0;32m     40\u001b[0m \u001b[38;5;66;03m# Vectorizer\u001b[39;00m\n\u001b[1;32m---> 41\u001b[0m \u001b[38;5;28;01mfrom\u001b[39;00m \u001b[38;5;21;01msklearn\u001b[39;00m\u001b[38;5;21;01m.\u001b[39;00m\u001b[38;5;21;01mfeature_extraction\u001b[39;00m\u001b[38;5;21;01m.\u001b[39;00m\u001b[38;5;21;01mtext\u001b[39;00m \u001b[38;5;28;01mimport\u001b[39;00m TfidfVectorizer\n\u001b[0;32m     42\u001b[0m \u001b[38;5;28;01mfrom\u001b[39;00m \u001b[38;5;21;01msklearn\u001b[39;00m\u001b[38;5;21;01m.\u001b[39;00m\u001b[38;5;21;01mmetrics\u001b[39;00m\u001b[38;5;21;01m.\u001b[39;00m\u001b[38;5;21;01mpairwise\u001b[39;00m \u001b[38;5;28;01mimport\u001b[39;00m cosine_similarity\n\u001b[0;32m     44\u001b[0m \u001b[38;5;28;01mdef\u001b[39;00m \u001b[38;5;21mresponse\u001b[39m(user_response):\n",
      "\u001b[1;31mModuleNotFoundError\u001b[0m: No module named 'sklearn'"
     ]
    }
   ],
   "source": [
    "import nltk\n",
    "import random\n",
    "import string\n",
    "import warnings\n",
    "\n",
    "warnings.filterwarnings('ignore')\n",
    "nltk.download('punkt')\n",
    "nltk.download('wordnet')\n",
    "\n",
    "file = open('Mod10_2.txt', 'r', errors='ignore')\n",
    "raw = file.read()\n",
    "raw = raw.lower()\n",
    "\n",
    "sent_tokens = nltk.sent_tokenize(raw)  # converts to list of sentences\n",
    "word_tokens = nltk.word_tokenize(raw)  # converts to list of words\n",
    "\n",
    "print(sent_tokens)\n",
    "print(word_tokens)\n",
    "\n",
    "# Preprocessing\n",
    "lemmer = nltk.stem.WordNetLemmatizer()\n",
    "\n",
    "def LemTokens(tokens):\n",
    "    return [lemmer.lemmatize(token) for token in tokens]\n",
    "\n",
    "remove_punct_dict = dict((ord(punct), None) for punct in string.punctuation)\n",
    "\n",
    "def LemNormalize(text):\n",
    "    return LemTokens(nltk.word_tokenize(text.lower().translate(remove_punct_dict)))\n",
    "\n",
    "# Greetings\n",
    "GREETING_INPUTS = (\"hello\", \"hi\", \"greetings\", \"sup\", \"what's up\", \"hey\")\n",
    "GREETING_RESPONSES = [\"hi\", \"hey\", \"nods\", \"hi there\", \"hello\", \"I am glad! you are talking to me\"]\n",
    "\n",
    "def greeting(sentence):\n",
    "    for word in sentence.split():\n",
    "        if word.lower() in GREETING_INPUTS:\n",
    "            return random.choice(GREETING_RESPONSES)\n",
    "\n",
    "# Vectorizer\n",
    "from sklearn.feature_extraction.text import TfidfVectorizer\n",
    "from sklearn.metrics.pairwise import cosine_similarity\n",
    "\n",
    "def response(user_response):\n",
    "    chatbot_response = ''\n",
    "    sent_tokens.append(user_response)\n",
    "    TfidfVec = TfidfVectorizer(tokenizer=LemNormalize, stop_words=\"english\")\n",
    "    tfidf = TfidfVec.fit_transform(sent_tokens)\n",
    "    vals = cosine_similarity(tfidf[-1], tfidf)\n",
    "    idx = vals.argsort()[0][-2]\n",
    "    flat = vals.flatten()\n",
    "    flat.sort()\n",
    "    req_tfidf = flat[-2]\n",
    "    if req_tfidf == 0:\n",
    "        chatbot_response = chatbot_response + \"I am sorry! I don't understand you\"\n",
    "        return chatbot_response\n",
    "    else:\n",
    "        chatbot_response = chatbot_response + sent_tokens[idx]\n",
    "        return chatbot_response\n",
    "\n",
    "# Main\n",
    "flag = True\n",
    "print(\"Hello there, my name is Aneka. I will answer your queries. If you want to exit, type 'Bye'\")\n",
    "\n",
    "while flag:\n",
    "    user_response = input()\n",
    "    user_response = user_response.lower()\n",
    "\n",
    "    if user_response != 'bye':\n",
    "        if user_response == 'thanks' or user_response == 'thank you':\n",
    "            flag = False\n",
    "            print(\"Aneka: You're welcome!\")\n",
    "        else:\n",
    "            if greeting(user_response) is not None:\n",
    "                print(\"Aneka: \" + greeting(user_response))\n",
    "            else:\n",
    "                print(\"Aneka: \", end='')\n",
    "                print(response(user_response))\n",
    "                sent_tokens.remove(user_response)\n",
    "    else:\n",
    "        flag = False\n",
    "        print(\"Aneka: Bye! Have a great time!\")\n"
   ]
  }
 ],
 "metadata": {
  "kernelspec": {
   "display_name": "Python 3 (ipykernel)",
   "language": "python",
   "name": "python3"
  },
  "language_info": {
   "codemirror_mode": {
    "name": "ipython",
    "version": 3
   },
   "file_extension": ".py",
   "mimetype": "text/x-python",
   "name": "python",
   "nbconvert_exporter": "python",
   "pygments_lexer": "ipython3",
   "version": "3.8.8"
  }
 },
 "nbformat": 4,
 "nbformat_minor": 5
}
